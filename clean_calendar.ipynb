{
 "cells": [
  {
   "cell_type": "markdown",
   "metadata": {},
   "source": [
    "# Imports"
   ]
  },
  {
   "cell_type": "code",
   "execution_count": 1,
   "metadata": {},
   "outputs": [],
   "source": [
    "import pandas as pd"
   ]
  },
  {
   "cell_type": "code",
   "execution_count": 2,
   "metadata": {},
   "outputs": [],
   "source": [
    "calendar = pd.read_csv('og_data/calendar2024.csv')"
   ]
  },
  {
   "cell_type": "markdown",
   "metadata": {},
   "source": [
    "# Calendar"
   ]
  },
  {
   "cell_type": "markdown",
   "metadata": {},
   "source": [
    "## Fix the price column if it's formatted as \"$1,865.00\""
   ]
  },
  {
   "cell_type": "code",
   "execution_count": 3,
   "metadata": {},
   "outputs": [],
   "source": [
    "calendar['price'] = calendar['price'].str.replace(\"[$,]\", \"\", regex=True).astype(float) # Remove $ and , and convert to float"
   ]
  },
  {
   "cell_type": "markdown",
   "metadata": {},
   "source": [
    "## Drop columns with all NaN values"
   ]
  },
  {
   "cell_type": "code",
   "execution_count": 4,
   "metadata": {},
   "outputs": [],
   "source": [
    "calendar = calendar.dropna(axis=1, how='all')"
   ]
  },
  {
   "cell_type": "code",
   "execution_count": 5,
   "metadata": {},
   "outputs": [],
   "source": [
    "# Sort by id and date to ensure proper interpolation\n",
    "calendar = calendar.sort_values(by=['listing_id', 'date'])\n",
    "\n",
    "# Define a function to interpolate within each group\n",
    "def interpolate_nights(group):\n",
    "    # Interpolate numeric columns\n",
    "    group['minimum_nights'] = group['minimum_nights'].interpolate(method='nearest', limit_direction='both')\n",
    "    group['maximum_nights'] = group['maximum_nights'].interpolate(method='nearest', limit_direction='both')\n",
    "    return group\n",
    "\n",
    "# Apply interpolation group-wise by id\n",
    "calendar = calendar.groupby('listing_id').apply(interpolate_nights)\n",
    "\n",
    "# Convert to integers after interpolation (rounding to avoid float issues)\n",
    "calendar['minimum_nights'] = calendar['minimum_nights'].fillna(0).round().astype(int)\n",
    "calendar['maximum_nights'] = calendar['maximum_nights'].fillna(0).round().astype(int)"
   ]
  },
  {
   "cell_type": "markdown",
   "metadata": {},
   "source": [
    "### Wondering how interpolate works?\n",
    "<details>\n",
    "<summary>CLICK HERE FOR EXAMPLE</summary>\n",
    "\n",
    "### Original Data\n",
    "\n",
    "| listing_id | date       | minimum_nights | maximum_nights |\n",
    "|------------|------------|----------------|----------------|\n",
    "| 1          | 2024-01-01 | 2              | 5              |\n",
    "| 1          | 2024-01-02 | NaN            | NaN            |\n",
    "| 1          | 2024-01-03 | NaN            | NaN            |\n",
    "| 1          | 2024-01-04 | 4              | 8              |\n",
    "\n",
    "---\n",
    "\n",
    "### After Interpolation\n",
    "\n",
    "- Interpolation is applied using the `nearest` method:\n",
    "  - For `minimum_nights`:\n",
    "    - `2024-01-02` is filled with `2` (nearest value from `2024-01-01`).\n",
    "    - `2024-01-03` is filled with `4` (nearest value from `2024-01-04`).\n",
    "  - For `maximum_nights`:\n",
    "    - `2024-01-02` is filled with `5` (nearest value from `2024-01-01`).\n",
    "    - `2024-01-03` is filled with `8` (nearest value from `2024-01-04`).\n",
    "\n",
    "| listing_id | date       | minimum_nights | maximum_nights |\n",
    "|------------|------------|----------------|----------------|\n",
    "| 1          | 2024-01-01 | 2              | 5              |\n",
    "| 1          | 2024-01-02 | 2              | 5              |\n",
    "| 1          | 2024-01-03 | 4              | 8              |\n",
    "| 1          | 2024-01-04 | 4              | 8              |\n",
    "\n",
    "---\n",
    "</details>"
   ]
  },
  {
   "cell_type": "markdown",
   "metadata": {},
   "source": [
    "---------"
   ]
  },
  {
   "cell_type": "markdown",
   "metadata": {},
   "source": [
    "# Exports"
   ]
  },
  {
   "cell_type": "code",
   "execution_count": null,
   "metadata": {},
   "outputs": [],
   "source": [
    "# calendar.to_csv(\n",
    "#     \"cleaned_data/cleaned_calendar.csv\",\n",
    "#     index=False,\n",
    "#     encoding=\"utf-8\"\n",
    "# )"
   ]
  },
  {
   "cell_type": "code",
   "execution_count": null,
   "metadata": {},
   "outputs": [],
   "source": []
  }
 ],
 "metadata": {
  "kernelspec": {
   "display_name": "Python 3",
   "language": "python",
   "name": "python3"
  },
  "language_info": {
   "codemirror_mode": {
    "name": "ipython",
    "version": 3
   },
   "file_extension": ".py",
   "mimetype": "text/x-python",
   "name": "python",
   "nbconvert_exporter": "python",
   "pygments_lexer": "ipython3",
   "version": "3.11.7"
  }
 },
 "nbformat": 4,
 "nbformat_minor": 2
}
