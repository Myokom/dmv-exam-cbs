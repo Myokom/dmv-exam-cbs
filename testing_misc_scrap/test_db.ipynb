{
 "cells": [
  {
   "cell_type": "markdown",
   "metadata": {},
   "source": [
    "# Create table in pgadmin\n",
    "\n",
    "\n",
    "CREATE TABLE students (\n",
    "    student_id SERIAL PRIMARY KEY,\n",
    "    first_name TEXT NOT NULL,\n",
    "    last_name TEXT NOT NULL,\n",
    "    birth_date DATE NOT NULL,\n",
    "    gpa FLOAT,\n",
    "    is_active BOOLEAN,\n",
    "    notes TEXT NOT NULL\n",
    ");"
   ]
  },
  {
   "cell_type": "code",
   "execution_count": 3,
   "metadata": {},
   "outputs": [
    {
     "name": "stdout",
     "output_type": "stream",
     "text": [
      "CSV file 'students.csv' created successfully.\n"
     ]
    }
   ],
   "source": [
    "import pandas as pd\n",
    "\n",
    "# Create a small fictional dataset\n",
    "data = {\n",
    "    \"student_id\": [1, 2, 3, 4, 5],  # Primary key (optional in the CSV if PostgreSQL uses SERIAL)\n",
    "    \"first_name\": [\"Alice\", \"Bob\", \"Charlie\", \"Diana\", \"Eve\"],\n",
    "    \"last_name\": [\"Smith\", \"Johnson\", \"Williams\", \"Brown\", \"Jones\"],\n",
    "    \"birth_date\": [\"2001-01-15\", \"2002-02-20\", \"2000-05-30\", \"2001-12-10\", \"1999-07-25\"],\n",
    "    \"gpa\": [3.8, 3.5, 3.9, 4.0, 3.2],\n",
    "    \"is_active\": [True, False, True, True, False],\n",
    "    \"notes\": [\n",
    "        \"Excellent student 😊\", \n",
    "        \"Needs improvement 😕\", \n",
    "        \"Top of the class 🏆\", \n",
    "        \"Good progress 👍\", \n",
    "        \"Special character test: ñ, ü, å, é, 漢字, 한글, عربى\"\n",
    "    ]\n",
    "}\n",
    "\n",
    "# Convert to DataFrame\n",
    "df = pd.DataFrame(data)\n",
    "\n",
    "# Convert booleans to PostgreSQL-friendly format (t/f)\n",
    "df[\"is_active\"] = df[\"is_active\"].map({True: \"t\", False: \"f\"})\n",
    "\n",
    "# Save the DataFrame to a CSV file\n",
    "df.to_csv(\"students.csv\", index=False, encoding=\"utf-8\")\n",
    "\n",
    "print(\"CSV file 'students.csv' created successfully.\")"
   ]
  },
  {
   "cell_type": "markdown",
   "metadata": {},
   "source": [
    "# 1 row of mock data with correct columns"
   ]
  },
  {
   "cell_type": "code",
   "execution_count": 1,
   "metadata": {},
   "outputs": [
    {
     "name": "stdout",
     "output_type": "stream",
     "text": [
      "Mock data CSV file 'mock_data.csv' created successfully!\n"
     ]
    }
   ],
   "source": [
    "import pandas as pd\n",
    "\n",
    "# Create a dictionary of mock data for each column\n",
    "data = {\n",
    "    \"id\": [1],\n",
    "    \"listing_url\": [\"https://www.airbnb.com/rooms/1\"],\n",
    "    \"scrape_id\": [20241231],\n",
    "    \"last_scraped\": [\"2024-12-21\"],\n",
    "    \"source\": [\"airbnb\"],  # category\n",
    "    \"name\": [\"Cozy Apartment in the City Center\"],\n",
    "    \"description\": [\"A lovely, bright apartment near public transport.\"],\n",
    "    \"neighborhood_overview\": [\"Close to shops and nightlife.\"],\n",
    "    \"picture_url\": [\"https://a0.muscache.com/pictures/abc123.jpg\"],\n",
    "    \"host_id\": [123456],\n",
    "    \"host_url\": [\"https://www.airbnb.com/users/show/123456\"],\n",
    "    \"host_name\": [\"Jane\"],\n",
    "    \"host_since\": [\"2019-03-15\"],\n",
    "    \"host_location\": [\"New York, USA\"],\n",
    "    \"host_about\": [\"I love hosting people from all over the world!\"],\n",
    "    \"host_response_time\": [\"within an hour\"],\n",
    "    \"host_response_rate\": [98.0],\n",
    "    \"host_acceptance_rate\": [95.0],\n",
    "    \"host_is_superhost\": [\"t\"],\n",
    "    \"host_thumbnail_url\": [\"https://a0.muscache.com/pictures/user/thumb123.jpg\"],\n",
    "    \"host_picture_url\": [\"https://a0.muscache.com/pictures/user/pic123.jpg\"],\n",
    "    \"host_neighbourhood\": [\"Midtown\"],\n",
    "    \"host_listings_count\": [2],\n",
    "    \"host_total_listings_count\": [2],\n",
    "    \"host_verifications\": [[\"email\", \"phone\"]],\n",
    "    \"host_has_profile_pic\": [\"t\"],\n",
    "    \"host_identity_verified\": [\"t\"],\n",
    "    \"neighbourhood\": [\"Manhattan\"],\n",
    "    \"neighbourhood_cleansed\": [\"Manhattan\"],  # category\n",
    "    \"latitude\": [40.7128],\n",
    "    \"longitude\": [-74.0060],\n",
    "    \"property_type\": [\"Apartment\"],  # category\n",
    "    \"room_type\": [\"Entire home/apt\"],  # category\n",
    "    \"accommodates\": [2],\n",
    "    \"bathrooms\": [1.0],\n",
    "    \"bathrooms_text\": [\"1 bath\"],\n",
    "    \"bedrooms\": [1],\n",
    "    \"beds\": [1],\n",
    "    \"amenities\": [[\"Wifi\", \"Kitchen\", \"Heating\"]],\n",
    "    \"price\": [150.0],\n",
    "    \"minimum_nights\": [2],\n",
    "    \"maximum_nights\": [30],\n",
    "    \"minimum_minimum_nights\": [1],\n",
    "    \"maximum_minimum_nights\": [7],\n",
    "    \"minimum_maximum_nights\": [30],\n",
    "    \"maximum_maximum_nights\": [1125],\n",
    "    \"minimum_nights_avg_ntm\": [2.0],\n",
    "    \"maximum_nights_avg_ntm\": [30.0],\n",
    "    \"has_availability\": [\"t\"],\n",
    "    \"availability_30\": [15],\n",
    "    \"availability_60\": [28],\n",
    "    \"availability_90\": [60],\n",
    "    \"availability_365\": [300],\n",
    "    \"calendar_last_scraped\": [\"2024-12-20\"],\n",
    "    \"number_of_reviews\": [10],\n",
    "    \"number_of_reviews_ltm\": [5],\n",
    "    \"number_of_reviews_l30d\": [1],\n",
    "    \"first_review\": [\"2023-01-15\"],\n",
    "    \"last_review\": [\"2024-12-01\"],\n",
    "    \"review_scores_rating\": [98.0],\n",
    "    \"review_scores_accuracy\": [10.0],\n",
    "    \"review_scores_cleanliness\": [10.0],\n",
    "    \"review_scores_checkin\": [9.0],\n",
    "    \"review_scores_communication\": [10.0],\n",
    "    \"review_scores_location\": [9.0],\n",
    "    \"review_scores_value\": [9.0],\n",
    "    \"instant_bookable\": [\"f\"],\n",
    "    \"calculated_host_listings_count\": [2],\n",
    "    \"calculated_host_listings_count_entire_homes\": [2],\n",
    "    \"calculated_host_listings_count_private_rooms\": [0],\n",
    "    \"calculated_host_listings_count_shared_rooms\": [0],\n",
    "    \"reviews_per_month\": [1.2],\n",
    "    \"bathroom_type\": [\"private bath\"]  # category\n",
    "}\n",
    "\n",
    "# Create the DataFrame\n",
    "df = pd.DataFrame(data)\n",
    "\n",
    "# (Optional) Convert some columns to categorical to match your original schema\n",
    "categorical_cols = [\n",
    "    \"source\",\n",
    "    \"neighbourhood_cleansed\",\n",
    "    \"property_type\",\n",
    "    \"room_type\",\n",
    "    \"bathroom_type\",\n",
    "]\n",
    "for col in categorical_cols:\n",
    "    df[col] = df[col].astype(\"category\")\n",
    "\n",
    "# Write DataFrame to CSV with one row of mock data\n",
    "df.to_csv(\"1row_mock_data.csv\", index=False)\n",
    "\n",
    "print(\"Mock data CSV file 'mock_data.csv' created successfully!\")"
   ]
  },
  {
   "cell_type": "code",
   "execution_count": null,
   "metadata": {},
   "outputs": [],
   "source": []
  }
 ],
 "metadata": {
  "kernelspec": {
   "display_name": "Python 3",
   "language": "python",
   "name": "python3"
  },
  "language_info": {
   "codemirror_mode": {
    "name": "ipython",
    "version": 3
   },
   "file_extension": ".py",
   "mimetype": "text/x-python",
   "name": "python",
   "nbconvert_exporter": "python",
   "pygments_lexer": "ipython3",
   "version": "3.11.7"
  }
 },
 "nbformat": 4,
 "nbformat_minor": 2
}
