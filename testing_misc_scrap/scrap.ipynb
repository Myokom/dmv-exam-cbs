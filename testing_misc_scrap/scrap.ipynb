{
 "cells": [
  {
   "cell_type": "markdown",
   "metadata": {},
   "source": [
    "## Convert t and f to proper boolean\n",
    "\n",
    "apparently not necessary"
   ]
  },
  {
   "cell_type": "code",
   "execution_count": null,
   "metadata": {},
   "outputs": [],
   "source": [
    "import matplotlib.pyplot as plt\n",
    "\n",
    "# Extract the year from 'last_review'\n",
    "listings['last_review_year'] = listings['last_review'].dt.year\n",
    "\n",
    "# Count the number of listings for each year\n",
    "review_counts_by_year = listings['last_review_year'].value_counts().sort_index()\n",
    "\n",
    "# Calculate the cumulative sum\n",
    "cumulative_reviews = review_counts_by_year.cumsum()\n",
    "\n",
    "# Plot the data\n",
    "fig, ax1 = plt.subplots(figsize=(10, 6))\n",
    "\n",
    "ax1.bar(review_counts_by_year.index, review_counts_by_year, color='skyblue', label='Yearly Reviews')\n",
    "ax1.set_xlabel('Year')\n",
    "ax1.set_ylabel('Number of Listings')\n",
    "ax1.set_title('Number of Listings with Last Review in Each Year')\n",
    "ax1.legend(loc='upper left')\n",
    "\n",
    "# Add numbers on top of the bars\n",
    "for i in ax1.containers:\n",
    "    ax1.bar_label(i, label_type='edge')\n",
    "\n",
    "# Create a secondary y-axis\n",
    "ax2 = ax1.twinx()\n",
    "ax2.plot(cumulative_reviews.index, cumulative_reviews, color='red', marker='o', label='Cumulative Reviews')\n",
    "ax2.set_ylabel('Cumulative Reviews')\n",
    "ax2.legend(loc='upper right')\n",
    "\n",
    "plt.show()\n"
   ]
  },
  {
   "cell_type": "markdown",
   "metadata": {},
   "source": [
    "## 10. Replace NaN with None for Postgres-friendly output"
   ]
  },
  {
   "cell_type": "code",
   "execution_count": null,
   "metadata": {},
   "outputs": [],
   "source": [
    "# listings = listings.where(pd.notnull(listings), None)  # Replace NaN with None, which is converted to NULL in PostgreSQL\n",
    "\n",
    "# listings = listings.where(pd.notnull(listings), '')  # Replace NaN with empty strings"
   ]
  },
  {
   "cell_type": "code",
   "execution_count": null,
   "metadata": {},
   "outputs": [],
   "source": [
    "            text.encode('utf-8').decode('unicode_escape')  # Decodes Unicode sequences\n"
   ]
  },
  {
   "cell_type": "code",
   "execution_count": null,
   "metadata": {},
   "outputs": [],
   "source": [
    "# Convert boolean columns\n",
    "# boolean_columns = ['host_is_superhost', 'host_has_profile_pic', 'host_identity_verified', 'instant_bookable', 'has_availability']\n",
    "#for col in boolean_columns:\n",
    "#    listings[col] = listings[col].map({'t': True, 'f': False})  # Map 't' to True and 'f' to Falslistings"
   ]
  },
  {
   "cell_type": "code",
   "execution_count": null,
   "metadata": {},
   "outputs": [],
   "source": [
    "import csv\n",
    "\n",
    "listings.to_csv(\n",
    "    'cleaned_data/cleaned_listings.csv',\n",
    "    index=False,\n",
    "    quoting=csv.QUOTE_MINIMAL,\n",
    "    encoding='utf-8'\n",
    ")"
   ]
  },
  {
   "cell_type": "code",
   "execution_count": null,
   "metadata": {},
   "outputs": [],
   "source": [
    "text_columns = [\n",
    "    'name', \n",
    "    'description', \n",
    "    'neighborhood_overview', \n",
    "    'host_name', \n",
    "    'host_location', \n",
    "    'host_about', \n",
    "    'host_response_time', \n",
    "    'bathrooms_text',\n",
    "    'amenities',\n",
    "]\n",
    "\n",
    "def remove_br_and_double_quotes(text):\n",
    "    if not isinstance(text, str):\n",
    "        return text\n",
    "    # Replace all literal double quotes with nothing\n",
    "    return text.replace('<br />', ' ').replace('\"', '')\n",
    "\n",
    "for col in text_columns:\n",
    "    listings[col] = (\n",
    "            listings[col]\n",
    "            .str.replace(r'[\\r\\n]+', ' ', regex=True) # Replace newlines with spaces\n",
    "            .str.replace('\\u2028', ' ') # Replace unicode line separator with space\n",
    "            .str.replace('\\u2029', ' ') # Replace unicode paragraph separator with space\n",
    "            .str.replace('\\u2019', \"'\", regex=False) # Replace unicode right single quotation mark with apostrophe\n",
    "            .str.replace('\\u2013', \"-\", regex=False) # Replace unicode en dash with hyphen\n",
    "            .str.replace(r'[“”]', '', regex=True) # Remove fancy double quotes\n",
    "            .str.strip() # Strip leading/trailing whitespace (example: \"  hello  \" -> \"hello\")\n",
    "            .apply(remove_br_and_double_quotes) # Remove <br /> and double quotes (example: \"hello<br />\" -> hello)\n",
    "        )"
   ]
  },
  {
   "cell_type": "code",
   "execution_count": null,
   "metadata": {},
   "outputs": [],
   "source": [
    "# Define a function to clean and decode text\n",
    "def clean_text(text):\n",
    "    if not isinstance(text, str):\n",
    "        return text\n",
    "    try:\n",
    "        # Decode Unicode escapes and strip unwanted characters\n",
    "        return (\n",
    "            text\n",
    "            # .encode('utf-8').decode('unicode_escape')  # Decodes Unicode sequences\n",
    "            .replace('<br />', ' ')  # Replace HTML line breaks\n",
    "            .replace('\"', '')  # Remove double quotes\n",
    "            .replace('’', \"'\")  # Replace right single quote with straight single quote\n",
    "            .replace('–', '-')  # Replace en-dash with hyphen\n",
    "            .strip()  # Remove leading/trailing whitespace\n",
    "        )\n",
    "    except UnicodeDecodeError:\n",
    "        # If decoding fails, return the original text\n",
    "        return text"
   ]
  },
  {
   "cell_type": "code",
   "execution_count": null,
   "metadata": {},
   "outputs": [],
   "source": [
    "listings.to_csv(\n",
    "    \"cleaned_listings.csv\",\n",
    "    index=False,\n",
    "            # Escape the backslash by doubling it\n",
    "    quoting=csv.QUOTE_ALL,   # Use QUOTE_ALL or QUOTE_MINIMAL as required\n",
    "    escapechar='\\\\',         # Escape double quotes with backslash\n",
    "    encoding='utf-8',\n",
    "    lineterminator='\\n'\n",
    ")"
   ]
  },
  {
   "cell_type": "code",
   "execution_count": null,
   "metadata": {},
   "outputs": [],
   "source": [
    "listings.head(1).to_csv(\n",
    "    'first_5_listings.csv', \n",
    "    index=False, \n",
    "    quoting=csv.QUOTE_ALL,  # Enclose every field in quotes\n",
    "    quotechar='\"',          # Use double quotes for enclosing\n",
    "    escapechar='\\\\',        # Escape embedded quotes\n",
    "    lineterminator='\\n',    # Use Unix line endings\n",
    "    encoding='utf-8'        # Ensure UTF-8 encoding\n",
    ")"
   ]
  },
  {
   "cell_type": "code",
   "execution_count": null,
   "metadata": {},
   "outputs": [
    {
     "name": "stdout",
     "output_type": "stream",
     "text": [
      "'\"id\",\"listing_url\",\"scrape_id\",\"last_scraped\",\"source\",\"name\",\"description\",\"neighborhood_overview\",\"picture_url\",\"host_id\",\"host_url\",\"host_name\",\"host_since\",\"host_location\",\"host_about\",\"host_response_time\",\"host_response_rate\",\"host_acceptance_rate\",\"host_is_superhost\",\"host_thumbnail_url\",\"host_picture_url\",\"host_neighbourhood\",\"host_listings_count\",\"host_total_listings_count\",\"host_verifications\",\"host_has_profile_pic\",\"host_identity_verified\",\"neighbourhood\",\"neighbourhood_cleansed\",\"latitude\",\"longitude\",\"property_type\",\"room_type\",\"accommodates\",\"bathrooms\",\"bathrooms_text\",\"bedrooms\",\"beds\",\"amenities\",\"price\",\"minimum_nights\",\"maximum_nights\",\"minimum_minimum_nights\",\"maximum_minimum_nights\",\"minimum_maximum_nights\",\"maximum_maximum_nights\",\"minimum_nights_avg_ntm\",\"maximum_nights_avg_ntm\",\"has_availability\",\"availability_30\",\"availability_60\",\"availability_90\",\"availability_365\",\"calendar_last_scraped\",\"number_of_reviews\",\"number_of_reviews_ltm\",\"number_of_reviews_l30d\",\"first_review\",\"last_review\",\"review_scores_rating\",\"review_scores_accuracy\",\"review_scores_cleanliness\",\"review_scores_checkin\",\"review_scores_communication\",\"review_scores_location\",\"review_scores_value\",\"instant_bookable\",\"calculated_host_listings_count\",\"calculated_host_listings_count_entire_homes\",\"calculated_host_listings_count_private_rooms\",\"calculated_host_listings_count_shared_rooms\",\"reviews_per_month\",\"bathroom_type\"\\n'\n",
      "'\"31094\",\"https://www.airbnb.com/rooms/31094\",\"20240629155650\",\"2024-06-30\",\"previous scrape\",\"Beautiful, spacious, central, renovated Penthouse\",\"Welcome to our home, we hope you will enjoy Wonderful Copenhagen!<br /><br />Our penthouse apartment is very spacious with 164 m2 incl. a private rooftop terrasse where you can relax or grill. Despite the location in central Copenhagen, the street is very quiet and the neighbors are never heard.<br /><br />Most attractions are within walking distance, as are plenty of great restaurants in Vesterbro and \"\"Kødbyen\"\".  We are happy på guide you to our favourites :-). Trains and Metro are also a few minutes away by foot.\",\"What else is nearby?<br />To be honest, We think our neighbourhood \"\"Vesterbro\"\" is the coolest in Copenhagen. Just 100 meters away you have Sdr. Boulevard, which is a lovely open boulevard, where lots of the cool kids hang out in the afternoon and evening. \"\"Kødbyen\"\" (The old meat packing district), which has now been made into trendy restaurents, bars and nightclubs, is only 350 meters away. If you feel more like authentic old bars, there are plenty nearby.. There are lots of parks and playgrounds in the neighborhood. The beautiful harbour is great for swimming and only 1 km away. You will be able to manage you days here on foot, but we also highly recommend biking around. Since 2015, Copenhagen has been ranked the world\\'s top cycling city several times. You can rent bikes at the end of the street.\",\"https://a0.muscache.com/pictures/miso/Hosting-31094/original/a06def88-187e-4994-b3d0-078e6fb3b099.jpeg\",\"129976\",\"https://www.airbnb.com/users/show/129976\",\"Ebbe\",\"2010-05-22\",\"Copenhagen, Denmark\",\"Hi and welcome. My name is Ebbe, I am a medical doctor working in Copenhagen. I live in the flat with my girlfriend Lea who is working as a nurse. We have two little girls: Nora is 6 years old and Luna is 2 years old. We love sports, music and travelling, and we look forward welcoming you to Wonderful Copenhagen :-)\",\"\",\"\",\"\",\"f\",\"https://a0.muscache.com/im/users/129976/profile_pic/1371667869/original.jpg?aki_policy=profile_small\",\"https://a0.muscache.com/im/users/129976/profile_pic/1371667869/original.jpg?aki_policy=profile_x_medium\",\"Vesterbro\",\"1\",\"1\",\"email, phone\",\"t\",\"t\",\"Copenhagen, Capital Region of Denmark, Denmark\",\"Vesterbro-Kongens Enghave\",\"55.66660169999999\",\"12.5552831\",\"Entire condo\",\"Entire home/apt\",\"6\",\"1.5\",\"1.5 baths\",\"4\",\"0\",\"Toaster, Refrigerator, Conditioner, Hot water kettle, Hot water, Oven, Laundromat nearby, Standalone high chair - always at the listing, Hangers, Baking sheet, Coffee maker: drip coffee maker, espresso machine, french press, Nespresso, City skyline view, Wifi, Cooking basics, Private entrance, Hair dryer, Private patio or balcony, Outdoor dining area, Drying rack for clothing, Paid street parking off premises, Body soap, Private BBQ grill: gas, Dryer –\\xa0In unit, Stove, Children’s dinnerware, Freezer, Window guards, Courtyard view, Bed linens, Cleaning products, Blender, Shared backyard, Baby bath, Dishes and silverware, Children’s books and toys for ages 2-5 years old and 5-10 years old, Heating, TV with standard cable, Dishwasher, Washer –\\xa0In unit, Shared beach access, EV charger, Barbecue utensils, Sound system, Clothing storage: closet, Kitchen, Outdoor furniture, Microwave, Wine glasses, Smoke alarm, Changing table, Indoor fireplace: wood-burning, Essentials, Coffee\",\"\",\"3\",\"10\",\"3\",\"3\",\"10\",\"10\",\"3.0\",\"10.0\",\"t\",\"0\",\"0\",\"0\",\"0\",\"2024-06-30\",\"19\",\"0\",\"0\",\"2010-08-16\",\"2022-08-22\",\"4.88\",\"4.82\",\"4.88\",\"4.87\",\"4.82\",\"4.8\",\"4.53\",\"f\",\"1\",\"1\",\"0\",\"0\",\"0.11\",\"private\"\\n'\n",
      "'\"262961\",\"https://www.airbnb.com/rooms/262961\",\"20240629155650\",\"2024-06-30\",\"city scrape\",\"192m2 FLAT+ 8m2 BALCONY IN CENTER NØRREBRO HOOD\",\"If you are looking for a large apartment in central Copenhagen, but in a local environment with lots of restaurants, cafes and Danish design shops and at the same time also want a great quiet private courtyard where you can relax and barbecue and where your children can play or you can take a sunbathing - yes it\\'s here in our flat :-)<br /><br />According to Time Out our neighborhood;  \"\"Nørrebro are one of the 28 coolest neighborhoods in the world\"\". No other Danish neighborhood are on that list!\",\"TIME OUT - The world’s coolest neighbourhoods in 2021 - OUR HOOD (NOERREBRO) IS NO 1.<br /><br />\"\"However you define ‘cool’, Nørrebro has it. This diverse district, on the northern side of Copenhagen’s lakes, is a dazzling blend of historic landmarks, ultramodern architecture and food and drink joints to make this famously gourmet city proud. Even during this harshest of years, new bakeries, restaurants and natural wine bars have proliferated – and it almost goes without saying that they all put a focus on local, seasonal produce (quite a lot of it foraged, probably). This year has also seen community initiatives flourish: Car-Free Sunday made its comeback, swapping traffic on Nørrebrogade for live music and flea markets, while Usynlige Stier (‘Invisible Paths’) is a new, interactive art exhibition that brings fun and a splash of colour to the neighbourhood’s most vulnerable areas.\"\"\",\"https://a0.muscache.com/pictures/261aa506-7b13-484c-8920-6a87133731fb.jpg\",\"1379904\",\"https://www.airbnb.com/users/show/1379904\",\"Nina\",\"2011-11-07\",\"Copenhagen, Denmark\",\"Hej -  I read the Master in Pedagogy. My husband work in the film industry and our children go to the local school. We are informal and we sing, live, breathe and dance here in our lovely apartment - and invite you to do the same in our flat/room :-) We love to travel and experience, to have fun and enjoy life:-)\",\"\",\"\",\"1.0\",\"f\",\"https://a0.muscache.com/im/pictures/user/43342192-b98b-44bc-8da2-bcd1e989d598.jpg?aki_policy=profile_small\",\"https://a0.muscache.com/im/pictures/user/43342192-b98b-44bc-8da2-bcd1e989d598.jpg?aki_policy=profile_x_medium\",\"Nørrebro\",\"1\",\"3\",\"email, phone\",\"t\",\"t\",\"Copenhagen, Capital Region of Denmark, Denmark\",\"Nørrebro\",\"55.68867\",\"12.56095\",\"Entire rental unit\",\"Entire home/apt\",\"8\",\"1.5\",\"1.5 baths\",\"4\",\"4\",\"Refrigerator, Fire extinguisher, Hot water, First aid kit, Oven, Shower gel, Paid parking off premises, Children’s books and toys, Hangers, Baking sheet, Shampoo, Wifi, Cooking basics, Outdoor dining area, BBQ grill, Hair dryer, Private patio or balcony, Dedicated workspace, Host greets you, Washer, Iron, Babysitter recommendations, Stove, Room-darkening shades, Outdoor kitchen, Long term stays allowed, Children’s dinnerware, Courtyard view, Park view, Bed linens, Shared backyard – Fully fenced, Baby bath, Dishes and silverware, Heating, TV with standard cable, Dishwasher, Kitchen, Outdoor furniture, Microwave, High chair, Smoke alarm, Coffee maker, Gym, Garden view, Ethernet connection, Essentials\",\"1865.0\",\"5\",\"90\",\"5\",\"5\",\"90\",\"90\",\"5.0\",\"90.0\",\"t\",\"0\",\"0\",\"0\",\"0\",\"2024-06-30\",\"36\",\"2\",\"0\",\"2011-12-13\",\"2023-07-26\",\"4.62\",\"4.67\",\"4.44\",\"4.94\",\"4.94\",\"4.89\",\"4.53\",\"f\",\"1\",\"1\",\"0\",\"0\",\"0.24\",\"private\"\\n'\n",
      "'\"263036\",\"https://www.airbnb.com/rooms/263036\",\"20240629155650\",\"2024-06-30\",\"city scrape\",\"Bright flat in central location\",\"\",\"\",\"https://a0.muscache.com/pictures/17770169/f1fbe8c2_original.jpg\",\"1232471\",\"https://www.airbnb.com/users/show/1232471\",\"Anita\",\"2011-10-01\",\"Copenhagen, Denmark\",\"Bla, bla, bla, bla\",\"within a few hours\",\"1.0\",\"0.0\",\"f\",\"https://a0.muscache.com/im/users/1232471/profile_pic/1321015923/original.jpg?aki_policy=profile_small\",\"https://a0.muscache.com/im/users/1232471/profile_pic/1321015923/original.jpg?aki_policy=profile_x_medium\",\"Nørrebro\",\"1\",\"1\",\"email, phone\",\"t\",\"t\",\"\",\"Nørrebro\",\"55.69008\",\"12.54378\",\"Entire rental unit\",\"Entire home/apt\",\"2\",\"0.0\",\"0 baths\",\"2\",\"2\",\"Carbon monoxide alarm, Backyard, Kitchen, Refrigerator, Host greets you, Bed linens, Hot water, Washer, Iron, Smoke alarm, Heating, Paid parking off premises, Hangers, Essentials, Shampoo, Wifi\",\"905.0\",\"4\",\"10\",\"4\",\"4\",\"10\",\"10\",\"4.0\",\"10.0\",\"t\",\"0\",\"4\",\"32\",\"32\",\"2024-06-30\",\"21\",\"1\",\"0\",\"2012-01-02\",\"2023-08-03\",\"4.86\",\"4.81\",\"4.9\",\"4.86\",\"4.86\",\"4.81\",\"4.67\",\"f\",\"1\",\"1\",\"0\",\"0\",\"0.14\",\"private\"\\n'\n",
      "'\"32379\",\"https://www.airbnb.com/rooms/32379\",\"20240629155650\",\"2024-06-30\",\"city scrape\",\"155 m2 artist flat on Vesterbro, with 2 bathrooms\",\"You enter a narrow entrance and feel the good mood right away. The bright rooms welcome you into the large living room with the sofa furnished in bay window. 2 modern bathroom with heating in the floor you will find at each end of the apartment where you also have two large bedroom. Furthermore, a good dining kitchen with cozy details and space for a small dining table. Last a slightly larger room which here is furnished with dining table in lounge atmosphere for several. 155m2\",\"Værnedamsvej area is super hip area, we call it little Paris. Saterday you\\'ll find special cosy activities and super nice atmosphere. Meatdistrict just in the hood as well, please take a look. TIVOLI is plassed like it is in the bachgarden.\",\"https://a0.muscache.com/pictures/miso/Hosting-32379/original/dcc4a7a5-d8db-47bc-a3a1-4540465b4cf3.jpeg\",\"140105\",\"https://www.airbnb.com/users/show/140105\",\"Lise\",\"2010-06-07\",\"Copenhagen, Denmark\",\"As profession - Set and Costumedesigner for Avangarde Theatre, Modern Dance and Performance. A traveler, enjoy to se the whole world, meet people and talk about the world situation\",\"within an hour\",\"1.0\",\"1.0\",\"t\",\"https://a0.muscache.com/im/users/140105/profile_pic/1289485314/original.jpg?aki_policy=profile_small\",\"https://a0.muscache.com/im/users/140105/profile_pic/1289485314/original.jpg?aki_policy=profile_x_medium\",\"Vesterbro\",\"3\",\"4\",\"email, phone\",\"t\",\"t\",\"Copenhagen, V, Denmark\",\"Vesterbro-Kongens Enghave\",\"55.672638\",\"12.552493\",\"Entire rental unit\",\"Entire home/apt\",\"4\",\"2.0\",\"2 baths\",\"2\",\"3\",\"Carbon monoxide alarm, Toaster, Self check-in, Refrigerator, Hot water kettle, Hot water, First aid kit, Oven, Private hot tub, Shower gel, Paid parking off premises, Children’s books and toys, Hangers, Shampoo, Wifi, Cooking basics, Hair dryer, Drying rack for clothing, Dedicated workspace, Host greets you, Washer, Dryer, Iron, Dining table, Stove, Room-darkening shades, Portable fans, Courtyard view, Bathtub, Cleaning products, Bed linens, TV with Chromecast, Dishes and silverware, Heating, Dishwasher, Kitchen, Shared backyard – Not fully fenced, Microwave, Wine glasses, Outdoor furniture, Lockbox, Smoke alarm, Essentials\",\"1865.0\",\"3\",\"9\",\"3\",\"3\",\"9\",\"9\",\"3.0\",\"9.0\",\"t\",\"18\",\"22\",\"22\",\"22\",\"2024-06-30\",\"82\",\"3\",\"0\",\"2010-08-23\",\"2024-05-11\",\"4.91\",\"4.96\",\"4.92\",\"4.88\",\"4.91\",\"4.89\",\"4.71\",\"f\",\"2\",\"1\",\"1\",\"0\",\"0.49\",\"private\"\\n'\n"
     ]
    }
   ],
   "source": [
    "with open('cleaned_listings.csv', 'r', encoding='utf-8') as file:\n",
    "    lines = file.readlines()\n",
    "    for line in lines[:5]:  # Check the first 5 lines\n",
    "        print(repr(line))   # Print with line-ending characters visible"
   ]
  },
  {
   "cell_type": "markdown",
   "metadata": {},
   "source": [
    "## 12. Remove or normalize accents in text columns"
   ]
  },
  {
   "cell_type": "code",
   "execution_count": null,
   "metadata": {},
   "outputs": [],
   "source": [
    "# import unicodedata\n",
    "# text_columns = ['description', 'neighborhood_overview', 'host_about']\n",
    "# for col in text_columns:\n",
    "#     listings[col] = listings[col].apply(\n",
    "#         lambda x: unicodedata.normalize('NFKD', x) if isinstance(x, str) else x\n",
    "#     )"
   ]
  },
  {
   "cell_type": "code",
   "execution_count": null,
   "metadata": {},
   "outputs": [],
   "source": [
    "# listings.head(1).to_csv(\n",
    "#     '1row.csv',\n",
    "#     index=False,\n",
    "#     quoting=csv.QUOTE_ALL,\n",
    "#     quotechar='\"',\n",
    "#     # escapechar='\\\\',\n",
    "#     na_rep='',\n",
    "#     lineterminator='\\n',\n",
    "#     encoding='utf-8'\n",
    "# )"
   ]
  }
 ],
 "metadata": {
  "language_info": {
   "name": "python"
  }
 },
 "nbformat": 4,
 "nbformat_minor": 2
}
