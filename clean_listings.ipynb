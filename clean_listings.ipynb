{
 "cells": [
  {
   "cell_type": "markdown",
   "metadata": {},
   "source": [
    "# Imports"
   ]
  },
  {
   "cell_type": "code",
   "execution_count": 1,
   "metadata": {},
   "outputs": [],
   "source": [
    "import pandas as pd\n",
    "import numpy as np\n",
    "import matplotlib.pyplot as plt\n",
    "import seaborn as sns"
   ]
  },
  {
   "cell_type": "markdown",
   "metadata": {},
   "source": [
    "# Read CSV"
   ]
  },
  {
   "cell_type": "code",
   "execution_count": 2,
   "metadata": {},
   "outputs": [],
   "source": [
    "listings = pd.read_csv('og_data/listings2024.csv')"
   ]
  },
  {
   "cell_type": "markdown",
   "metadata": {},
   "source": [
    "# Cleaning"
   ]
  },
  {
   "cell_type": "markdown",
   "metadata": {},
   "source": [
    "## bathrooms_text -> bathrooms & bathroom_type"
   ]
  },
  {
   "cell_type": "code",
   "execution_count": 3,
   "metadata": {},
   "outputs": [],
   "source": [
    "def parse_bathrooms(bathrooms_text):\n",
    "    if pd.isnull(bathrooms_text): \n",
    "        return pd.Series([0.0, \"unknown\"]) # Return 0.0 if the value is missing\n",
    "    bathrooms_text = bathrooms_text.lower() # Convert to lowercase\n",
    "    if \"half\" in bathrooms_text:\n",
    "        return pd.Series([0.5, \"shared\" if \"shared\" in bathrooms_text else \"private\"]) # Return 0.5 if it's a half bathroom \n",
    "    elif \"shared\" in bathrooms_text:\n",
    "        return pd.Series([float(bathrooms_text.split(\" \")[0]), \"shared\"]) # Return the first number if it's a shared bathroom\n",
    "    else:\n",
    "        return pd.Series([float(bathrooms_text.split(\" \")[0]), \"private\"]) # Return the first number if it's a private bathroom\n",
    "\n",
    "# Apply the function\n",
    "listings[['bathrooms', 'bathroom_type']] = listings['bathrooms_text'].apply(parse_bathrooms) "
   ]
  },
  {
   "cell_type": "markdown",
   "metadata": {},
   "source": [
    "## Data type: Convert to \"datetime\""
   ]
  },
  {
   "cell_type": "code",
   "execution_count": 4,
   "metadata": {},
   "outputs": [],
   "source": [
    "# Convert dates\n",
    "date_columns = ['last_scraped', 'host_since', 'first_review', 'last_review', 'calendar_last_scraped']\n",
    "for col in date_columns:\n",
    "    listings[col] = pd.to_datetime(listings[col], errors='coerce')  # Convert to datetime, handle errors"
   ]
  },
  {
   "cell_type": "markdown",
   "metadata": {},
   "source": [
    "## Data type: Convert percentages to float"
   ]
  },
  {
   "cell_type": "code",
   "execution_count": 5,
   "metadata": {},
   "outputs": [],
   "source": [
    "# Convert percentages to float (remove '%' and divide by 100)\n",
    "percentage_columns = ['host_response_rate', 'host_acceptance_rate']\n",
    "for col in percentage_columns:\n",
    "    listings[col] = (\n",
    "        listings[col]\n",
    "        .str.replace('%', '', regex=False)  # Remove percentage symbol\n",
    "        .astype(float) / 100  # Convert to float and divide by 100\n",
    "    )"
   ]
  },
  {
   "cell_type": "markdown",
   "metadata": {},
   "source": [
    "## Convert t and f to proper boolean"
   ]
  },
  {
   "cell_type": "code",
   "execution_count": 6,
   "metadata": {},
   "outputs": [],
   "source": [
    "# Convert boolean columns\n",
    "boolean_columns = ['host_is_superhost', 'host_has_profile_pic', 'host_identity_verified', 'instant_bookable', 'has_availability']\n",
    "for col in boolean_columns:\n",
    "    listings[col] = listings[col].map({'t': True, 'f': False})  # Map 't' to True and 'f' to Falslistings"
   ]
  },
  {
   "cell_type": "markdown",
   "metadata": {},
   "source": [
    "## Data type: Convert to categoricals"
   ]
  },
  {
   "cell_type": "code",
   "execution_count": 7,
   "metadata": {},
   "outputs": [],
   "source": [
    "# Convert categorical columns\n",
    "categorical_columns = ['source', 'property_type', 'room_type', 'bathroom_type', 'neighbourhood_cleansed']\n",
    "for col in categorical_columns:\n",
    "    listings[col] = listings[col].astype('category') # Convert to category type"
   ]
  },
  {
   "cell_type": "markdown",
   "metadata": {},
   "source": [
    "## Fix the price column"
   ]
  },
  {
   "cell_type": "code",
   "execution_count": 8,
   "metadata": {},
   "outputs": [],
   "source": [
    "# Fix the price column if it's formatted as \"$1,865.00\"\n",
    "listings['price'] = listings['price'].str.replace(\"[$,]\", \"\", regex=True).astype(float) # Remove $ and , and convert to float"
   ]
  },
  {
   "cell_type": "code",
   "execution_count": 9,
   "metadata": {},
   "outputs": [],
   "source": [
    "# Fix numeric columns with missing or incorrect values\n",
    "numeric_columns = ['host_listings_count', 'host_total_listings_count']\n",
    "for col in numeric_columns:\n",
    "    listings[col] = pd.to_numeric(listings[col], errors='coerce')  # Convert to numeric, handle errolistings"
   ]
  },
  {
   "cell_type": "markdown",
   "metadata": {},
   "source": [
    "## Drop empty columns"
   ]
  },
  {
   "cell_type": "code",
   "execution_count": 10,
   "metadata": {},
   "outputs": [],
   "source": [
    "# Drop empty columns\n",
    "empty_columns = ['license', 'calendar_updated', 'neighbourhood_group_cleansed']\n",
    "listings = listings.drop(columns=empty_columns)"
   ]
  },
  {
   "cell_type": "markdown",
   "metadata": {},
   "source": [
    "## Data type: Convert floats to integers"
   ]
  },
  {
   "cell_type": "code",
   "execution_count": 11,
   "metadata": {},
   "outputs": [],
   "source": [
    "# Convert float columns with integer values to int (if appropriate)\n",
    "integer_like_float_columns = ['host_listings_count', 'host_total_listings_count', 'bedrooms', 'beds']\n",
    "for col in integer_like_float_columns:\n",
    "    listings[col] = listings[col].fillna(0).astype(int)  # Fill NaN with 0 and convert to int"
   ]
  },
  {
   "cell_type": "markdown",
   "metadata": {},
   "source": [
    "# Export"
   ]
  },
  {
   "cell_type": "code",
   "execution_count": 12,
   "metadata": {},
   "outputs": [],
   "source": [
    "listings.to_csv('cleaned_listings.csv', index=False)"
   ]
  }
 ],
 "metadata": {
  "kernelspec": {
   "display_name": "Python 3",
   "language": "python",
   "name": "python3"
  },
  "language_info": {
   "codemirror_mode": {
    "name": "ipython",
    "version": 3
   },
   "file_extension": ".py",
   "mimetype": "text/x-python",
   "name": "python",
   "nbconvert_exporter": "python",
   "pygments_lexer": "ipython3",
   "version": "3.11.7"
  }
 },
 "nbformat": 4,
 "nbformat_minor": 2
}
