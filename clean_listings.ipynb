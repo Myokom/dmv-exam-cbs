{
 "cells": [
  {
   "cell_type": "markdown",
   "metadata": {},
   "source": [
    "# Imports"
   ]
  },
  {
   "cell_type": "code",
   "execution_count": 1,
   "metadata": {},
   "outputs": [],
   "source": [
    "import pandas as pd"
   ]
  },
  {
   "cell_type": "markdown",
   "metadata": {},
   "source": [
    "# Read CSV"
   ]
  },
  {
   "cell_type": "code",
   "execution_count": 2,
   "metadata": {},
   "outputs": [],
   "source": [
    "listings = pd.read_csv('og_data/listings2024.csv')"
   ]
  },
  {
   "cell_type": "markdown",
   "metadata": {},
   "source": [
    "# Cleaning"
   ]
  },
  {
   "cell_type": "markdown",
   "metadata": {},
   "source": [
    "## 1. Cleaning bathrooms_text -> bathrooms & bathroom_type"
   ]
  },
  {
   "cell_type": "code",
   "execution_count": 3,
   "metadata": {},
   "outputs": [],
   "source": [
    "def parse_bathrooms(bathrooms_text):\n",
    "    if pd.isnull(bathrooms_text): \n",
    "        return pd.Series([0.0, \"unknown\"]) # Return 0.0 if the value is missing\n",
    "    bathrooms_text = bathrooms_text.lower() # Convert to lowercase\n",
    "    if \"half\" in bathrooms_text:\n",
    "        return pd.Series([0.5, \"shared\" if \"shared\" in bathrooms_text else \"private\"]) # Return 0.5 if it's a half bathroom \n",
    "    elif \"shared\" in bathrooms_text:\n",
    "        return pd.Series([float(bathrooms_text.split(\" \")[0]), \"shared\"]) # Return the first number if it's a shared bathroom\n",
    "    else:\n",
    "        return pd.Series([float(bathrooms_text.split(\" \")[0]), \"private\"]) # Return the first number if it's a private bathroom\n",
    "\n",
    "# Apply the function\n",
    "listings[['bathrooms', 'bathroom_type']] = listings['bathrooms_text'].apply(parse_bathrooms) "
   ]
  },
  {
   "cell_type": "markdown",
   "metadata": {},
   "source": [
    "## 2. Replace partial Danish letters in 'neighbourhood_cleansed'"
   ]
  },
  {
   "cell_type": "code",
   "execution_count": 4,
   "metadata": {},
   "outputs": [],
   "source": [
    "# Define the replacements\n",
    "replacements = {\n",
    "    'Nrrebro': 'Nørrebro',\n",
    "    'sterbro': 'Østerbro',\n",
    "    'Amager st': 'Amager Øst',\n",
    "    'Vanlse': 'Vanløse',\n",
    "    'Brnshj-Husum': 'Brønshøj-Husum'\n",
    "}\n",
    "\n",
    "# Replace values in the neighbourhood_cleansed column\n",
    "listings['neighbourhood_cleansed'] = listings['neighbourhood_cleansed'].replace(replacements)"
   ]
  },
  {
   "cell_type": "markdown",
   "metadata": {},
   "source": [
    "## 3. Convert date columns to proper date types"
   ]
  },
  {
   "cell_type": "code",
   "execution_count": 5,
   "metadata": {},
   "outputs": [],
   "source": [
    "# Convert dates\n",
    "date_columns = [\n",
    "    'last_scraped',\n",
    "    'host_since',\n",
    "    'first_review',\n",
    "    'last_review',\n",
    "    'calendar_last_scraped'\n",
    "]\n",
    "\n",
    "for col in date_columns:\n",
    "    # Convert to datetime, handle parsing errors\n",
    "    listings[col] = pd.to_datetime(listings[col], errors='coerce').dt.date # Keep only the date portion (becomes a Python `date` object which )"
   ]
  },
  {
   "cell_type": "markdown",
   "metadata": {},
   "source": [
    "## 4. Convert percentage columns to float in range [0, 1]"
   ]
  },
  {
   "cell_type": "code",
   "execution_count": 6,
   "metadata": {},
   "outputs": [],
   "source": [
    "# Convert percentages to float (remove '%' and divide by 100)\n",
    "percentage_columns = ['host_response_rate', 'host_acceptance_rate']\n",
    "for col in percentage_columns:\n",
    "    listings[col] = (\n",
    "        listings[col]\n",
    "        .str.replace('%', '', regex=False)  # Remove percentage symbol\n",
    "        .astype(float) / 100  # Convert to float and divide by 100\n",
    "    )"
   ]
  },
  {
   "cell_type": "markdown",
   "metadata": {},
   "source": [
    "## 5. Convert certain columns to categorical"
   ]
  },
  {
   "cell_type": "code",
   "execution_count": 7,
   "metadata": {},
   "outputs": [],
   "source": [
    "categorical_columns = [\n",
    "    'source', \n",
    "    'property_type', \n",
    "    'room_type', \n",
    "    'bathroom_type', \n",
    "    'neighbourhood_cleansed'\n",
    "]\n",
    "for col in categorical_columns:\n",
    "    listings[col] = listings[col].astype('category')"
   ]
  },
  {
   "cell_type": "markdown",
   "metadata": {},
   "source": [
    "## 6. Fix the price column if it's formatted as \"$1,865.00\""
   ]
  },
  {
   "cell_type": "code",
   "execution_count": 8,
   "metadata": {},
   "outputs": [],
   "source": [
    "listings['price'] = listings['price'].str.replace(\"[$,]\", \"\", regex=True).astype(float) # Remove $ and , and convert to float"
   ]
  },
  {
   "cell_type": "markdown",
   "metadata": {},
   "source": [
    "## 7. Convert numeric columns with errors to NaN, then fix them"
   ]
  },
  {
   "cell_type": "code",
   "execution_count": 9,
   "metadata": {},
   "outputs": [],
   "source": [
    "# Ensure all numeric columns are properly cleaned\n",
    "numeric_columns = ['host_listings_count', 'host_total_listings_count', 'host_response_rate', 'host_acceptance_rate']\n"
   ]
  },
  {
   "cell_type": "code",
   "execution_count": 10,
   "metadata": {},
   "outputs": [],
   "source": [
    "# Ensure all numeric columns are properly cleaned\n",
    "numeric_columns = ['host_listings_count', 'host_total_listings_count', 'host_response_rate', 'host_acceptance_rate']\n",
    "\n",
    "for col in numeric_columns:\n",
    "    # Convert to numeric, coercing errors to NaN\n",
    "    listings[col] = pd.to_numeric(listings[col], errors='coerce')"
   ]
  },
  {
   "cell_type": "markdown",
   "metadata": {},
   "source": [
    "## 8. Drop empty columns"
   ]
  },
  {
   "cell_type": "code",
   "execution_count": 11,
   "metadata": {},
   "outputs": [],
   "source": [
    "# Drop empty columns\n",
    "empty_columns = ['license', 'calendar_updated', 'neighbourhood_group_cleansed']\n",
    "listings = listings.drop(columns=empty_columns)"
   ]
  },
  {
   "cell_type": "markdown",
   "metadata": {},
   "source": [
    "## 9. Convert float columns with integer values to int"
   ]
  },
  {
   "cell_type": "code",
   "execution_count": 12,
   "metadata": {},
   "outputs": [],
   "source": [
    "integer_like_float_columns = [\n",
    "    'host_listings_count', \n",
    "    'host_total_listings_count', \n",
    "    'bedrooms', \n",
    "    'beds'\n",
    "]\n",
    "for col in integer_like_float_columns:\n",
    "    listings[col] = listings[col].fillna(0).astype(int)"
   ]
  },
  {
   "cell_type": "markdown",
   "metadata": {},
   "source": [
    "## 10. Clean text columns"
   ]
  },
  {
   "cell_type": "code",
   "execution_count": 13,
   "metadata": {},
   "outputs": [],
   "source": [
    "text_columns = [\n",
    "    'name', \n",
    "    'description', \n",
    "    'neighborhood_overview', \n",
    "    'host_name', \n",
    "    'host_location', \n",
    "    'host_about', \n",
    "    'host_response_time', \n",
    "    'bathrooms_text',\n",
    "    'amenities',\n",
    "]\n",
    "\n",
    "def remove_br_and_double_quotes(text):\n",
    "    if not isinstance(text, str):\n",
    "        return text\n",
    "    # Replace all literal double quotes with nothing\n",
    "    return text.replace('<br />', ' ').replace('\"', '')\n",
    "\n",
    "for col in text_columns:\n",
    "    listings[col] = (\n",
    "            listings[col]\n",
    "            .str.replace(r'[\\r\\n]+', ' ', regex=True) # Replace newlines with spaces\n",
    "            .str.replace('\\u2028', ' ') # Replace unicode line separator with space\n",
    "            .str.replace('\\u2029', ' ') # Replace unicode paragraph separator with space\n",
    "            .str.replace('\\u2019', \"'\", regex=False) # Replace unicode right single quotation mark with apostrophe\n",
    "            .str.replace('\\u2013', \"-\", regex=False) # Replace unicode en dash with hyphen\n",
    "            .str.replace(r'[“”]', '', regex=True) # Remove fancy double quotes\n",
    "            .str.strip() # Strip leading/trailing whitespace (example: \"  hello  \" -> \"hello\")\n",
    "            .apply(remove_br_and_double_quotes) # Remove <br /> and double quotes (example: \"hello<br />\" -> hello)\n",
    "        )"
   ]
  },
  {
   "cell_type": "code",
   "execution_count": 14,
   "metadata": {},
   "outputs": [
    {
     "name": "stdout",
     "output_type": "stream",
     "text": [
      "{'\\\\u00c3', '\\\\u00c6', '\\\\u201c', '\\\\u20ac', '\\\\u00d8', '\\\\u201d', '\\\\u2019', '\\\\u00ed', '\\\\u00c5', '\\\\u00e6', '\\\\u00a0', '\\\\u00e5', '\\\\u00c4', '\\\\u00e9', '\\\\u00e8', '\\\\u2013', '\\\\u00f6', '\\\\u00f8'}\n"
     ]
    }
   ],
   "source": [
    "import re\n",
    "\n",
    "# Extract all unique unicode characters from the amenities column\n",
    "unicode_chars = set()\n",
    "for amenities in listings['amenities'].dropna():\n",
    "    unicode_chars.update(re.findall(r'\\\\u[0-9a-fA-F]{4}', amenities))\n",
    "\n",
    "print(unicode_chars)"
   ]
  },
  {
   "cell_type": "markdown",
   "metadata": {},
   "source": [
    "## 11. Replace NaN with None for Postgres-friendly output"
   ]
  },
  {
   "cell_type": "code",
   "execution_count": 15,
   "metadata": {},
   "outputs": [],
   "source": [
    "listings = listings.where(pd.notnull(listings), None)  # Replace NaN with None, which is converted to NULL in PostgreSQL"
   ]
  },
  {
   "cell_type": "markdown",
   "metadata": {},
   "source": [
    "## 12. List to plain text"
   ]
  },
  {
   "cell_type": "code",
   "execution_count": 16,
   "metadata": {},
   "outputs": [],
   "source": [
    "list_columns = ['host_verifications']\n",
    "for col in list_columns:\n",
    "    listings[col] = listings[col].apply(lambda x: ', '.join(eval(x)) if pd.notnull(x) else '')"
   ]
  },
  {
   "cell_type": "markdown",
   "metadata": {},
   "source": [
    "# Export"
   ]
  },
  {
   "cell_type": "code",
   "execution_count": 17,
   "metadata": {},
   "outputs": [],
   "source": [
    "import csv"
   ]
  },
  {
   "cell_type": "code",
   "execution_count": 18,
   "metadata": {},
   "outputs": [],
   "source": [
    "listings.to_csv(\n",
    "    'cleaned_data/cleaned_listings.csv',\n",
    "    index=False,\n",
    "    quoting=csv.QUOTE_MINIMAL,  # Use the csv module's quoting options\n",
    "    encoding='utf-8'\n",
    ")"
   ]
  },
  {
   "cell_type": "code",
   "execution_count": 19,
   "metadata": {},
   "outputs": [
    {
     "name": "stdout",
     "output_type": "stream",
     "text": [
      "<class 'pandas.core.frame.DataFrame'>\n",
      "RangeIndex: 20909 entries, 0 to 20908\n",
      "Data columns (total 73 columns):\n",
      " #   Column                                        Non-Null Count  Dtype   \n",
      "---  ------                                        --------------  -----   \n",
      " 0   id                                            20909 non-null  int64   \n",
      " 1   listing_url                                   20909 non-null  object  \n",
      " 2   scrape_id                                     20909 non-null  int64   \n",
      " 3   last_scraped                                  20909 non-null  object  \n",
      " 4   source                                        20909 non-null  category\n",
      " 5   name                                          20909 non-null  object  \n",
      " 6   description                                   20235 non-null  object  \n",
      " 7   neighborhood_overview                         8984 non-null   object  \n",
      " 8   picture_url                                   20909 non-null  object  \n",
      " 9   host_id                                       20909 non-null  int64   \n",
      " 10  host_url                                      20909 non-null  object  \n",
      " 11  host_name                                     20908 non-null  object  \n",
      " 12  host_since                                    20908 non-null  object  \n",
      " 13  host_location                                 17480 non-null  object  \n",
      " 14  host_about                                    8866 non-null   object  \n",
      " 15  host_response_time                            14441 non-null  object  \n",
      " 16  host_response_rate                            14441 non-null  float64 \n",
      " 17  host_acceptance_rate                          17161 non-null  float64 \n",
      " 18  host_is_superhost                             20685 non-null  object  \n",
      " 19  host_thumbnail_url                            20908 non-null  object  \n",
      " 20  host_picture_url                              20908 non-null  object  \n",
      " 21  host_neighbourhood                            5417 non-null   object  \n",
      " 22  host_listings_count                           20909 non-null  int64   \n",
      " 23  host_total_listings_count                     20909 non-null  int64   \n",
      " 24  host_verifications                            20909 non-null  object  \n",
      " 25  host_has_profile_pic                          20908 non-null  object  \n",
      " 26  host_identity_verified                        20908 non-null  object  \n",
      " 27  neighbourhood                                 8984 non-null   object  \n",
      " 28  neighbourhood_cleansed                        20909 non-null  category\n",
      " 29  latitude                                      20909 non-null  float64 \n",
      " 30  longitude                                     20909 non-null  float64 \n",
      " 31  property_type                                 20909 non-null  category\n",
      " 32  room_type                                     20909 non-null  category\n",
      " 33  accommodates                                  20909 non-null  int64   \n",
      " 34  bathrooms                                     20909 non-null  float64 \n",
      " 35  bathrooms_text                                20903 non-null  object  \n",
      " 36  bedrooms                                      20909 non-null  int64   \n",
      " 37  beds                                          20909 non-null  int64   \n",
      " 38  amenities                                     20909 non-null  object  \n",
      " 39  price                                         13596 non-null  float64 \n",
      " 40  minimum_nights                                20909 non-null  int64   \n",
      " 41  maximum_nights                                20909 non-null  int64   \n",
      " 42  minimum_minimum_nights                        20909 non-null  int64   \n",
      " 43  maximum_minimum_nights                        20909 non-null  int64   \n",
      " 44  minimum_maximum_nights                        20909 non-null  int64   \n",
      " 45  maximum_maximum_nights                        20909 non-null  int64   \n",
      " 46  minimum_nights_avg_ntm                        20909 non-null  float64 \n",
      " 47  maximum_nights_avg_ntm                        20909 non-null  float64 \n",
      " 48  has_availability                              20437 non-null  object  \n",
      " 49  availability_30                               20909 non-null  int64   \n",
      " 50  availability_60                               20909 non-null  int64   \n",
      " 51  availability_90                               20909 non-null  int64   \n",
      " 52  availability_365                              20909 non-null  int64   \n",
      " 53  calendar_last_scraped                         20909 non-null  object  \n",
      " 54  number_of_reviews                             20909 non-null  int64   \n",
      " 55  number_of_reviews_ltm                         20909 non-null  int64   \n",
      " 56  number_of_reviews_l30d                        20909 non-null  int64   \n",
      " 57  first_review                                  17689 non-null  object  \n",
      " 58  last_review                                   17689 non-null  object  \n",
      " 59  review_scores_rating                          17689 non-null  float64 \n",
      " 60  review_scores_accuracy                        17665 non-null  float64 \n",
      " 61  review_scores_cleanliness                     17665 non-null  float64 \n",
      " 62  review_scores_checkin                         17665 non-null  float64 \n",
      " 63  review_scores_communication                   17665 non-null  float64 \n",
      " 64  review_scores_location                        17664 non-null  float64 \n",
      " 65  review_scores_value                           17664 non-null  float64 \n",
      " 66  instant_bookable                              20909 non-null  object  \n",
      " 67  calculated_host_listings_count                20909 non-null  int64   \n",
      " 68  calculated_host_listings_count_entire_homes   20909 non-null  int64   \n",
      " 69  calculated_host_listings_count_private_rooms  20909 non-null  int64   \n",
      " 70  calculated_host_listings_count_shared_rooms   20909 non-null  int64   \n",
      " 71  reviews_per_month                             17689 non-null  float64 \n",
      " 72  bathroom_type                                 20909 non-null  category\n",
      "dtypes: category(5), float64(16), int64(25), object(27)\n",
      "memory usage: 11.0+ MB\n"
     ]
    }
   ],
   "source": [
    "listings.info()"
   ]
  }
 ],
 "metadata": {
  "kernelspec": {
   "display_name": "Python 3",
   "language": "python",
   "name": "python3"
  },
  "language_info": {
   "codemirror_mode": {
    "name": "ipython",
    "version": 3
   },
   "file_extension": ".py",
   "mimetype": "text/x-python",
   "name": "python",
   "nbconvert_exporter": "python",
   "pygments_lexer": "ipython3",
   "version": "3.11.7"
  }
 },
 "nbformat": 4,
 "nbformat_minor": 2
}
