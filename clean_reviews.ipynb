{
 "cells": [
  {
   "cell_type": "markdown",
   "metadata": {},
   "source": [
    "# Imports"
   ]
  },
  {
   "cell_type": "code",
   "execution_count": 1,
   "metadata": {},
   "outputs": [],
   "source": [
    "import pandas as pd"
   ]
  },
  {
   "cell_type": "code",
   "execution_count": 2,
   "metadata": {},
   "outputs": [],
   "source": [
    "reviews = pd.read_csv('og_data/reviews2024.csv')"
   ]
  },
  {
   "cell_type": "code",
   "execution_count": 3,
   "metadata": {},
   "outputs": [
    {
     "data": {
      "text/html": [
       "<div>\n",
       "<style scoped>\n",
       "    .dataframe tbody tr th:only-of-type {\n",
       "        vertical-align: middle;\n",
       "    }\n",
       "\n",
       "    .dataframe tbody tr th {\n",
       "        vertical-align: top;\n",
       "    }\n",
       "\n",
       "    .dataframe thead th {\n",
       "        text-align: right;\n",
       "    }\n",
       "</style>\n",
       "<table border=\"1\" class=\"dataframe\">\n",
       "  <thead>\n",
       "    <tr style=\"text-align: right;\">\n",
       "      <th></th>\n",
       "      <th>listing_id</th>\n",
       "      <th>id</th>\n",
       "      <th>date</th>\n",
       "      <th>reviewer_id</th>\n",
       "      <th>reviewer_name</th>\n",
       "      <th>comments</th>\n",
       "    </tr>\n",
       "  </thead>\n",
       "  <tbody>\n",
       "    <tr>\n",
       "      <th>0</th>\n",
       "      <td>31094</td>\n",
       "      <td>79346</td>\n",
       "      <td>2010-08-16</td>\n",
       "      <td>171607</td>\n",
       "      <td>Ben</td>\n",
       "      <td>We had a great stay. Conveniently located, qui...</td>\n",
       "    </tr>\n",
       "    <tr>\n",
       "      <th>1</th>\n",
       "      <td>31094</td>\n",
       "      <td>166275</td>\n",
       "      <td>2011-01-05</td>\n",
       "      <td>306860</td>\n",
       "      <td>Makita</td>\n",
       "      <td>It was a very good stay. The appartment was re...</td>\n",
       "    </tr>\n",
       "    <tr>\n",
       "      <th>2</th>\n",
       "      <td>31094</td>\n",
       "      <td>1452299</td>\n",
       "      <td>2012-06-10</td>\n",
       "      <td>1321058</td>\n",
       "      <td>Pierre</td>\n",
       "      <td>Really enjoyed my time at Ebbe's place.  It is...</td>\n",
       "    </tr>\n",
       "    <tr>\n",
       "      <th>3</th>\n",
       "      <td>31094</td>\n",
       "      <td>6766430</td>\n",
       "      <td>2013-08-24</td>\n",
       "      <td>2182771</td>\n",
       "      <td>Sussie</td>\n",
       "      <td>The apartment was very well located, 10-15 min...</td>\n",
       "    </tr>\n",
       "    <tr>\n",
       "      <th>4</th>\n",
       "      <td>31094</td>\n",
       "      <td>6827217</td>\n",
       "      <td>2013-08-26</td>\n",
       "      <td>8025926</td>\n",
       "      <td>Wil</td>\n",
       "      <td>This is a great flat, very clean with everythi...</td>\n",
       "    </tr>\n",
       "  </tbody>\n",
       "</table>\n",
       "</div>"
      ],
      "text/plain": [
       "   listing_id       id        date  reviewer_id reviewer_name  \\\n",
       "0       31094    79346  2010-08-16       171607           Ben   \n",
       "1       31094   166275  2011-01-05       306860        Makita   \n",
       "2       31094  1452299  2012-06-10      1321058        Pierre   \n",
       "3       31094  6766430  2013-08-24      2182771        Sussie   \n",
       "4       31094  6827217  2013-08-26      8025926           Wil   \n",
       "\n",
       "                                            comments  \n",
       "0  We had a great stay. Conveniently located, qui...  \n",
       "1  It was a very good stay. The appartment was re...  \n",
       "2  Really enjoyed my time at Ebbe's place.  It is...  \n",
       "3  The apartment was very well located, 10-15 min...  \n",
       "4  This is a great flat, very clean with everythi...  "
      ]
     },
     "execution_count": 3,
     "metadata": {},
     "output_type": "execute_result"
    }
   ],
   "source": [
    "reviews.head()"
   ]
  },
  {
   "cell_type": "code",
   "execution_count": 4,
   "metadata": {},
   "outputs": [
    {
     "name": "stdout",
     "output_type": "stream",
     "text": [
      "<class 'pandas.core.frame.DataFrame'>\n",
      "RangeIndex: 366636 entries, 0 to 366635\n",
      "Data columns (total 6 columns):\n",
      " #   Column         Non-Null Count   Dtype \n",
      "---  ------         --------------   ----- \n",
      " 0   listing_id     366636 non-null  int64 \n",
      " 1   id             366636 non-null  int64 \n",
      " 2   date           366636 non-null  object\n",
      " 3   reviewer_id    366636 non-null  int64 \n",
      " 4   reviewer_name  366636 non-null  object\n",
      " 5   comments       366619 non-null  object\n",
      "dtypes: int64(3), object(3)\n",
      "memory usage: 16.8+ MB\n"
     ]
    }
   ],
   "source": [
    "reviews.info()"
   ]
  },
  {
   "cell_type": "code",
   "execution_count": 5,
   "metadata": {},
   "outputs": [],
   "source": [
    "# 1. Remove HTML tags and clean text\n",
    "reviews['comments'] = reviews['comments'].str.replace(r\"<br/>\", \"\\n\", regex=True).str.strip()\n"
   ]
  },
  {
   "cell_type": "markdown",
   "metadata": {},
   "source": [
    "# Export"
   ]
  },
  {
   "cell_type": "code",
   "execution_count": 6,
   "metadata": {},
   "outputs": [],
   "source": [
    "reviews.to_csv(\n",
    "    \"cleaned_data/cleaned_reviews.csv\",\n",
    "    index=False,\n",
    "    encoding=\"utf-8\"\n",
    ")"
   ]
  }
 ],
 "metadata": {
  "kernelspec": {
   "display_name": "Python 3",
   "language": "python",
   "name": "python3"
  },
  "language_info": {
   "codemirror_mode": {
    "name": "ipython",
    "version": 3
   },
   "file_extension": ".py",
   "mimetype": "text/x-python",
   "name": "python",
   "nbconvert_exporter": "python",
   "pygments_lexer": "ipython3",
   "version": "3.11.11"
  }
 },
 "nbformat": 4,
 "nbformat_minor": 2
}
